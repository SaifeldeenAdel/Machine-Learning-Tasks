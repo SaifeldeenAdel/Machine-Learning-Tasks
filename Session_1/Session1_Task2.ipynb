{
 "cells": [
  {
   "cell_type": "code",
   "execution_count": 12,
   "metadata": {},
   "outputs": [],
   "source": [
    "import pandas as pd\n",
    "import numpy as np\n",
    "from sklearn.model_selection import train_test_split"
   ]
  },
  {
   "cell_type": "markdown",
   "metadata": {},
   "source": [
    "# Task 2\n",
    "Loading in my dataset and splitting it into appropriate sets\n"
   ]
  },
  {
   "cell_type": "code",
   "execution_count": 13,
   "metadata": {},
   "outputs": [],
   "source": [
    "dataset = np.genfromtxt('dataset.csv', delimiter=',')\n",
    "dataset = dataset[1:]"
   ]
  },
  {
   "cell_type": "code",
   "execution_count": 14,
   "metadata": {},
   "outputs": [],
   "source": [
    "# Creating train, val and test sets\n",
    "train, test = train_test_split(dataset, test_size = 0.2,random_state=43)\n",
    "train, val = train_test_split(train, test_size = 0.25,random_state=43)"
   ]
  },
  {
   "cell_type": "code",
   "execution_count": 15,
   "metadata": {},
   "outputs": [],
   "source": [
    "train_X = train[:,:-1]\n",
    "train_Y = train[:,-1]\n",
    "\n",
    "test_X = test[:,:-1]\n",
    "test_Y = test[:,-1]\n",
    "\n",
    "val_X = val[:,:-1]\n",
    "val_Y = val[:,-1]\n"
   ]
  },
  {
   "cell_type": "markdown",
   "metadata": {},
   "source": [
    "### NOTE\n",
    "Based on my understanding, we cannot calculate accuracy using the accuracy_score function like we did with classifiers as it will either throw an error in most cases or give us an accuracy of 0. This is because, a regressor works on continious data and so even if the output predicted is close to the actual result, it won't be the exact value so it wont count as a \"correct\" prediction. \n",
    "\n",
    "So, we will need to use regression metrics. There are alot of them, the most common being the MAE, MSE and r2 score. \n",
    "\n",
    "**MAE** is the **mean absolute error** which is just the mean of the absolute values of errors. The lower the value the better as it shows that the errors were not that large.\n",
    "\n",
    "**MSE** is the **mean squared error**, similar to the MAE however takes in the squared value of the errors rather than the absolute. Results in a much larger number because of the squaring.\n",
    "\n",
    "**R2 score** is a measure of the coefficient of determination. The higher the number, the better the model as its an indication of goodness of fit and how well unseen samples are likely to be predicted.\n"
   ]
  },
  {
   "cell_type": "markdown",
   "metadata": {},
   "source": [
    "## Decision Tree"
   ]
  },
  {
   "cell_type": "code",
   "execution_count": 37,
   "metadata": {},
   "outputs": [],
   "source": [
    "from sklearn.tree import DecisionTreeRegressor\n",
    "dtree = DecisionTreeRegressor(max_depth=20, random_state=43)\n",
    "dtree = dtree.fit(train_X, train_Y)"
   ]
  },
  {
   "cell_type": "code",
   "execution_count": 38,
   "metadata": {},
   "outputs": [
    {
     "name": "stdout",
     "output_type": "stream",
     "text": [
      "0.26145153942310073\n",
      "52.46067415730337\n"
     ]
    }
   ],
   "source": [
    "from sklearn.metrics import mean_absolute_error, r2_score\n",
    "pred = dtree.predict(val_X)\n",
    "r2 = r2_score(val_Y, pred)\n",
    "mse = mean_absolute_error(val_Y, pred)\n",
    "print(r2)\n",
    "print(mse)"
   ]
  },
  {
   "cell_type": "code",
   "execution_count": 39,
   "metadata": {},
   "outputs": [
    {
     "name": "stdout",
     "output_type": "stream",
     "text": [
      "-0.04036571510323461\n",
      "64.8314606741573\n"
     ]
    }
   ],
   "source": [
    "pred = dtree.predict(test_X)\n",
    "r2 = r2_score(test_Y, pred)\n",
    "mse = mean_absolute_error(test_Y, pred)\n",
    "print(r2)\n",
    "print(mse)"
   ]
  },
  {
   "cell_type": "markdown",
   "metadata": {},
   "source": [
    "## KNN"
   ]
  },
  {
   "cell_type": "code",
   "execution_count": 40,
   "metadata": {},
   "outputs": [],
   "source": [
    "from sklearn.neighbors import KNeighborsRegressor\n",
    "\n",
    "knn = KNeighborsRegressor(1)\n",
    "knn = knn.fit(train_X, train_Y)"
   ]
  },
  {
   "cell_type": "code",
   "execution_count": 41,
   "metadata": {},
   "outputs": [
    {
     "name": "stdout",
     "output_type": "stream",
     "text": [
      "-0.3698608583245995\n",
      "69.71910112359551\n"
     ]
    }
   ],
   "source": [
    "from sklearn.metrics import mean_absolute_error, r2_score\n",
    "pred = knn.predict(val_X)\n",
    "r2 = r2_score(val_Y, pred)\n",
    "mse = mean_absolute_error(val_Y, pred)\n",
    "print(r2)\n",
    "print(mse)"
   ]
  },
  {
   "cell_type": "code",
   "execution_count": 42,
   "metadata": {},
   "outputs": [
    {
     "name": "stdout",
     "output_type": "stream",
     "text": [
      "-0.8552593232577748\n",
      "86.69662921348315\n"
     ]
    }
   ],
   "source": [
    "pred = knn.predict(test_X)\n",
    "r2 = r2_score(test_Y, pred)\n",
    "mse = mean_absolute_error(test_Y, pred)\n",
    "print(r2)\n",
    "print(mse)"
   ]
  },
  {
   "cell_type": "markdown",
   "metadata": {},
   "source": [
    "## Linear Regression"
   ]
  },
  {
   "cell_type": "code",
   "execution_count": 43,
   "metadata": {},
   "outputs": [],
   "source": [
    "from sklearn.linear_model import LinearRegression\n",
    "\n",
    "knn = LinearRegression()\n",
    "knn = knn.fit(train_X, train_Y)"
   ]
  },
  {
   "cell_type": "code",
   "execution_count": 44,
   "metadata": {},
   "outputs": [
    {
     "name": "stdout",
     "output_type": "stream",
     "text": [
      "0.5428328538475687\n",
      "41.00404856819267\n"
     ]
    }
   ],
   "source": [
    "from sklearn.metrics import mean_absolute_error, r2_score\n",
    "pred = knn.predict(val_X)\n",
    "r2 = r2_score(val_Y, pred)\n",
    "mse = mean_absolute_error(val_Y, pred)\n",
    "print(r2)\n",
    "print(mse)"
   ]
  },
  {
   "cell_type": "code",
   "execution_count": 45,
   "metadata": {},
   "outputs": [
    {
     "name": "stdout",
     "output_type": "stream",
     "text": [
      "0.5563107024241942\n",
      "43.81883123555578\n"
     ]
    }
   ],
   "source": [
    "pred = knn.predict(test_X)\n",
    "r2 = r2_score(test_Y, pred)\n",
    "mse = mean_absolute_error(test_Y, pred)\n",
    "print(r2)\n",
    "print(mse)"
   ]
  },
  {
   "cell_type": "markdown",
   "metadata": {},
   "source": [
    "### THOUGHTS\n",
    "\n",
    "For some reason my model doesn't follow the trend of the data when I fit it with a decision tree or KNN. This is shown by the negative r2 score and high MAE. I tried searching to no avail and can't find a solution to this. Some things I managed to learn was that my data might need some preprocessing maybe or playing with my hyperparamters? However I haven't had enough time to fully understand this so I might be completely wrong and be missing something crucial.\n",
    "\n",
    "Although, it seems to be working correctly using simple linear regression which was nice to see atleast. But the accuracy is still not that great given that r2 score was only 55%."
   ]
  },
  {
   "cell_type": "code",
   "execution_count": null,
   "metadata": {},
   "outputs": [],
   "source": []
  }
 ],
 "metadata": {
  "kernelspec": {
   "display_name": "Python 3",
   "language": "python",
   "name": "python3"
  },
  "language_info": {
   "codemirror_mode": {
    "name": "ipython",
    "version": 3
   },
   "file_extension": ".py",
   "mimetype": "text/x-python",
   "name": "python",
   "nbconvert_exporter": "python",
   "pygments_lexer": "ipython3",
   "version": "3.8.3"
  }
 },
 "nbformat": 4,
 "nbformat_minor": 4
}
